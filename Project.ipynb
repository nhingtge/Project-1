{
 "cells": [
  {
   "cell_type": "code",
   "execution_count": 43,
   "metadata": {},
   "outputs": [],
   "source": [
    "# import dependencies\n",
    "import numpy as np\n",
    "import pandas as pd\n",
    "import matplotlib.pyplot as plt\n",
    "import requests\n",
    "from census import Census\n",
    "import gmaps\n",
    "import time\n",
    "from us import states\n",
    "from scipy.stats import linregress\n",
    "from matplotlib import pyplot as plt\n",
    "\n",
    "# API Keys\n",
    "from config import (census_key, gkey)\n",
    "c = Census(census_key, year=2017)"
   ]
  },
  {
   "cell_type": "code",
   "execution_count": 44,
   "metadata": {},
   "outputs": [],
   "source": [
    "# Run Census Search to retrieve data on all zip codes (2013 ACS5 Census)\n",
    "# See: https://github.com/CommerceDataService/census-wrapper for library documentation\n",
    "# See: https://gist.github.com/afhaque/60558290d6efd892351c4b64e5c01e9b for labels\n",
    "census_data = c.acs5.get((\"NAME\", \"B19013_001E\", \"B01003_001E\", \"B01002_001E\",\n",
    "                          \"B19301_001E\", \"B17001_002E\", \"B02001_002E\", \"B02001_005E\", \n",
    "                          \"B02001_003E\", \"B02001_004E\", \"B02001_007E\"), {'for': 'zip code tabulation area:*'})\n",
    "\n",
    "# Convert to DataFrame\n",
    "census_pd = pd.DataFrame(census_data)\n",
    "\n",
    "# Column Reordering\n",
    "census_pd = census_pd.rename(columns={\"B01003_001E\": \"Population\",\n",
    "                                      \"B01002_001E\": \"Median Age\",\n",
    "                                      \"B19013_001E\": \"Household Income\",\n",
    "                                      \"B19301_001E\": \"Per Capita Income\",\n",
    "                                      \"B17001_002E\": \"Poverty Count\",\n",
    "                                      \"B02001_002E\": \"White Population\",\n",
    "                                      \"B02001_004E\": \"Native American Population\",\n",
    "                                      \"B02001_005E\": \"Asian Population\",\n",
    "                                      \"B02001_003E\": \"African American Population\",\n",
    "                                      \"B02001_007E\": \"Other Population\",\n",
    "                                      \"NAME\": \"Name\", \n",
    "                                      \"zip code tabulation area\": \"Zipcode\"})\n",
    "\n",
    "# Add in Poverty Rate (Poverty Count / Population)\n",
    "census_pd[\"Poverty Rate\"] = 100 * \\\n",
    "    census_pd[\"Poverty Count\"].astype(\n",
    "        int) / census_pd[\"Population\"].astype(int)\n",
    "\n",
    "# Final DataFrame\n",
    "census_pd = census_pd[[\"Zipcode\", \"Population\", \"Median Age\", \"Household Income\",\n",
    "                       \"Per Capita Income\", \"Poverty Count\", \"Poverty Rate\", \"White Population\", \"Native American Population\", \n",
    "                       \"Asian Population\", \"African American Population\", \"Other Population\"]]\n",
    "\n",
    "# Visualize\n",
    "census_pd.head(10)\n",
    "census_pd[\"Zipcode\"] = census_pd[\"Zipcode\"].astype('int64')\n"
   ]
  },
  {
   "cell_type": "code",
   "execution_count": 45,
   "metadata": {},
   "outputs": [],
   "source": [
    "file_to_load = \"covid_zip\"\n",
    "\n",
    "# Read Purchasing File and store into Pandas data frame\n",
    "covid_df = pd.read_csv(file_to_load)\n",
    "covid_df = covid_df.rename(columns = {\"POSTCODE\" : \"Zipcode\"})\n"
   ]
  },
  {
   "cell_type": "code",
   "execution_count": 46,
   "metadata": {},
   "outputs": [
    {
     "data": {
      "text/html": [
       "<div>\n",
       "<style scoped>\n",
       "    .dataframe tbody tr th:only-of-type {\n",
       "        vertical-align: middle;\n",
       "    }\n",
       "\n",
       "    .dataframe tbody tr th {\n",
       "        vertical-align: top;\n",
       "    }\n",
       "\n",
       "    .dataframe thead th {\n",
       "        text-align: right;\n",
       "    }\n",
       "</style>\n",
       "<table border=\"1\" class=\"dataframe\">\n",
       "  <thead>\n",
       "    <tr style=\"text-align: right;\">\n",
       "      <th></th>\n",
       "      <th>Zipcode</th>\n",
       "      <th>ConfirmedCaseCategory</th>\n",
       "      <th>ConfirmedCaseCount</th>\n",
       "      <th>Population</th>\n",
       "      <th>Median Age</th>\n",
       "      <th>Household Income</th>\n",
       "      <th>Per Capita Income</th>\n",
       "      <th>Poverty Count</th>\n",
       "      <th>Poverty Rate</th>\n",
       "      <th>White Population</th>\n",
       "      <th>Native American Population</th>\n",
       "      <th>Asian Population</th>\n",
       "      <th>African American Population</th>\n",
       "      <th>Other Population</th>\n",
       "    </tr>\n",
       "  </thead>\n",
       "  <tbody>\n",
       "    <tr>\n",
       "      <th>0</th>\n",
       "      <td>85003</td>\n",
       "      <td>Greater Than 250</td>\n",
       "      <td>277.0</td>\n",
       "      <td>8694.0</td>\n",
       "      <td>39.2</td>\n",
       "      <td>47554.0</td>\n",
       "      <td>36513.0</td>\n",
       "      <td>1662.0</td>\n",
       "      <td>19.116632</td>\n",
       "      <td>6861.0</td>\n",
       "      <td>278.0</td>\n",
       "      <td>104.0</td>\n",
       "      <td>856.0</td>\n",
       "      <td>382.0</td>\n",
       "    </tr>\n",
       "    <tr>\n",
       "      <th>1</th>\n",
       "      <td>85004</td>\n",
       "      <td>101-250</td>\n",
       "      <td>206.0</td>\n",
       "      <td>5944.0</td>\n",
       "      <td>32.3</td>\n",
       "      <td>33862.0</td>\n",
       "      <td>31679.0</td>\n",
       "      <td>1772.0</td>\n",
       "      <td>29.811575</td>\n",
       "      <td>4601.0</td>\n",
       "      <td>103.0</td>\n",
       "      <td>331.0</td>\n",
       "      <td>386.0</td>\n",
       "      <td>339.0</td>\n",
       "    </tr>\n",
       "    <tr>\n",
       "      <th>2</th>\n",
       "      <td>85006</td>\n",
       "      <td>Greater Than 250</td>\n",
       "      <td>837.0</td>\n",
       "      <td>27671.0</td>\n",
       "      <td>31.0</td>\n",
       "      <td>32166.0</td>\n",
       "      <td>16583.0</td>\n",
       "      <td>10919.0</td>\n",
       "      <td>39.460085</td>\n",
       "      <td>13571.0</td>\n",
       "      <td>827.0</td>\n",
       "      <td>158.0</td>\n",
       "      <td>1303.0</td>\n",
       "      <td>10839.0</td>\n",
       "    </tr>\n",
       "    <tr>\n",
       "      <th>3</th>\n",
       "      <td>85007</td>\n",
       "      <td>Greater Than 250</td>\n",
       "      <td>639.0</td>\n",
       "      <td>14810.0</td>\n",
       "      <td>33.2</td>\n",
       "      <td>31396.0</td>\n",
       "      <td>20438.0</td>\n",
       "      <td>5273.0</td>\n",
       "      <td>35.604321</td>\n",
       "      <td>8497.0</td>\n",
       "      <td>392.0</td>\n",
       "      <td>512.0</td>\n",
       "      <td>2056.0</td>\n",
       "      <td>2874.0</td>\n",
       "    </tr>\n",
       "    <tr>\n",
       "      <th>4</th>\n",
       "      <td>85008</td>\n",
       "      <td>Greater Than 250</td>\n",
       "      <td>2415.0</td>\n",
       "      <td>60700.0</td>\n",
       "      <td>28.7</td>\n",
       "      <td>37696.0</td>\n",
       "      <td>17694.0</td>\n",
       "      <td>18762.0</td>\n",
       "      <td>30.909390</td>\n",
       "      <td>31891.0</td>\n",
       "      <td>2009.0</td>\n",
       "      <td>556.0</td>\n",
       "      <td>7113.0</td>\n",
       "      <td>16602.0</td>\n",
       "    </tr>\n",
       "    <tr>\n",
       "      <th>...</th>\n",
       "      <td>...</td>\n",
       "      <td>...</td>\n",
       "      <td>...</td>\n",
       "      <td>...</td>\n",
       "      <td>...</td>\n",
       "      <td>...</td>\n",
       "      <td>...</td>\n",
       "      <td>...</td>\n",
       "      <td>...</td>\n",
       "      <td>...</td>\n",
       "      <td>...</td>\n",
       "      <td>...</td>\n",
       "      <td>...</td>\n",
       "      <td>...</td>\n",
       "    </tr>\n",
       "    <tr>\n",
       "      <th>405</th>\n",
       "      <td>86514</td>\n",
       "      <td>Data Suppressed</td>\n",
       "      <td>NaN</td>\n",
       "      <td>2734.0</td>\n",
       "      <td>37.6</td>\n",
       "      <td>24199.0</td>\n",
       "      <td>12098.0</td>\n",
       "      <td>1209.0</td>\n",
       "      <td>44.220922</td>\n",
       "      <td>41.0</td>\n",
       "      <td>2672.0</td>\n",
       "      <td>5.0</td>\n",
       "      <td>2.0</td>\n",
       "      <td>6.0</td>\n",
       "    </tr>\n",
       "    <tr>\n",
       "      <th>406</th>\n",
       "      <td>86515</td>\n",
       "      <td>0</td>\n",
       "      <td>0.0</td>\n",
       "      <td>4933.0</td>\n",
       "      <td>33.8</td>\n",
       "      <td>35417.0</td>\n",
       "      <td>13441.0</td>\n",
       "      <td>1473.0</td>\n",
       "      <td>29.860126</td>\n",
       "      <td>254.0</td>\n",
       "      <td>4391.0</td>\n",
       "      <td>45.0</td>\n",
       "      <td>20.0</td>\n",
       "      <td>76.0</td>\n",
       "    </tr>\n",
       "    <tr>\n",
       "      <th>407</th>\n",
       "      <td>86515</td>\n",
       "      <td>Data Suppressed</td>\n",
       "      <td>NaN</td>\n",
       "      <td>4933.0</td>\n",
       "      <td>33.8</td>\n",
       "      <td>35417.0</td>\n",
       "      <td>13441.0</td>\n",
       "      <td>1473.0</td>\n",
       "      <td>29.860126</td>\n",
       "      <td>254.0</td>\n",
       "      <td>4391.0</td>\n",
       "      <td>45.0</td>\n",
       "      <td>20.0</td>\n",
       "      <td>76.0</td>\n",
       "    </tr>\n",
       "    <tr>\n",
       "      <th>408</th>\n",
       "      <td>86538</td>\n",
       "      <td>Data Suppressed</td>\n",
       "      <td>NaN</td>\n",
       "      <td>2080.0</td>\n",
       "      <td>28.9</td>\n",
       "      <td>26304.0</td>\n",
       "      <td>11644.0</td>\n",
       "      <td>888.0</td>\n",
       "      <td>42.692308</td>\n",
       "      <td>53.0</td>\n",
       "      <td>2015.0</td>\n",
       "      <td>2.0</td>\n",
       "      <td>7.0</td>\n",
       "      <td>3.0</td>\n",
       "    </tr>\n",
       "    <tr>\n",
       "      <th>409</th>\n",
       "      <td>86556</td>\n",
       "      <td>Data Suppressed</td>\n",
       "      <td>NaN</td>\n",
       "      <td>1956.0</td>\n",
       "      <td>23.5</td>\n",
       "      <td>26806.0</td>\n",
       "      <td>9759.0</td>\n",
       "      <td>691.0</td>\n",
       "      <td>35.327198</td>\n",
       "      <td>200.0</td>\n",
       "      <td>1690.0</td>\n",
       "      <td>7.0</td>\n",
       "      <td>25.0</td>\n",
       "      <td>18.0</td>\n",
       "    </tr>\n",
       "  </tbody>\n",
       "</table>\n",
       "<p>410 rows × 14 columns</p>\n",
       "</div>"
      ],
      "text/plain": [
       "     Zipcode ConfirmedCaseCategory  ConfirmedCaseCount  Population  \\\n",
       "0      85003      Greater Than 250               277.0      8694.0   \n",
       "1      85004               101-250               206.0      5944.0   \n",
       "2      85006      Greater Than 250               837.0     27671.0   \n",
       "3      85007      Greater Than 250               639.0     14810.0   \n",
       "4      85008      Greater Than 250              2415.0     60700.0   \n",
       "..       ...                   ...                 ...         ...   \n",
       "405    86514       Data Suppressed                 NaN      2734.0   \n",
       "406    86515                     0                 0.0      4933.0   \n",
       "407    86515       Data Suppressed                 NaN      4933.0   \n",
       "408    86538       Data Suppressed                 NaN      2080.0   \n",
       "409    86556       Data Suppressed                 NaN      1956.0   \n",
       "\n",
       "     Median Age  Household Income  Per Capita Income  Poverty Count  \\\n",
       "0          39.2           47554.0            36513.0         1662.0   \n",
       "1          32.3           33862.0            31679.0         1772.0   \n",
       "2          31.0           32166.0            16583.0        10919.0   \n",
       "3          33.2           31396.0            20438.0         5273.0   \n",
       "4          28.7           37696.0            17694.0        18762.0   \n",
       "..          ...               ...                ...            ...   \n",
       "405        37.6           24199.0            12098.0         1209.0   \n",
       "406        33.8           35417.0            13441.0         1473.0   \n",
       "407        33.8           35417.0            13441.0         1473.0   \n",
       "408        28.9           26304.0            11644.0          888.0   \n",
       "409        23.5           26806.0             9759.0          691.0   \n",
       "\n",
       "     Poverty Rate  White Population  Native American Population  \\\n",
       "0       19.116632            6861.0                       278.0   \n",
       "1       29.811575            4601.0                       103.0   \n",
       "2       39.460085           13571.0                       827.0   \n",
       "3       35.604321            8497.0                       392.0   \n",
       "4       30.909390           31891.0                      2009.0   \n",
       "..            ...               ...                         ...   \n",
       "405     44.220922              41.0                      2672.0   \n",
       "406     29.860126             254.0                      4391.0   \n",
       "407     29.860126             254.0                      4391.0   \n",
       "408     42.692308              53.0                      2015.0   \n",
       "409     35.327198             200.0                      1690.0   \n",
       "\n",
       "     Asian Population  African American Population  Other Population  \n",
       "0               104.0                        856.0             382.0  \n",
       "1               331.0                        386.0             339.0  \n",
       "2               158.0                       1303.0           10839.0  \n",
       "3               512.0                       2056.0            2874.0  \n",
       "4               556.0                       7113.0           16602.0  \n",
       "..                ...                          ...               ...  \n",
       "405               5.0                          2.0               6.0  \n",
       "406              45.0                         20.0              76.0  \n",
       "407              45.0                         20.0              76.0  \n",
       "408               2.0                          7.0               3.0  \n",
       "409               7.0                         25.0              18.0  \n",
       "\n",
       "[410 rows x 14 columns]"
      ]
     },
     "execution_count": 46,
     "metadata": {},
     "output_type": "execute_result"
    }
   ],
   "source": [
    "merged_df = pd.merge(covid_df, census_pd, on=\"Zipcode\", how=\"left\")\n",
    "merged_df.drop(columns=[\"Unnamed: 0\"])"
   ]
  },
  {
   "cell_type": "code",
   "execution_count": 47,
   "metadata": {},
   "outputs": [],
   "source": [
    "file_to_load = \"us-zip-code-latitude-and-longitude.csv\"\n",
    "\n",
    "# Read Purchasing File and store into Pandas data frame\n",
    "lat_lon_df = pd.read_csv(file_to_load, delimiter=\";\")\n",
    "lat_lon_df = lat_lon_df.drop(columns=[\"City\", \"State\", \"Timezone\", \"Daylight savings time flag\", \"geopoint\"])\n",
    "lat_lon_df = lat_lon_df.rename(columns = {\"Zip\" : \"Zipcode\"})"
   ]
  },
  {
   "cell_type": "code",
   "execution_count": 48,
   "metadata": {},
   "outputs": [
    {
     "data": {
      "text/html": [
       "<div>\n",
       "<style scoped>\n",
       "    .dataframe tbody tr th:only-of-type {\n",
       "        vertical-align: middle;\n",
       "    }\n",
       "\n",
       "    .dataframe tbody tr th {\n",
       "        vertical-align: top;\n",
       "    }\n",
       "\n",
       "    .dataframe thead th {\n",
       "        text-align: right;\n",
       "    }\n",
       "</style>\n",
       "<table border=\"1\" class=\"dataframe\">\n",
       "  <thead>\n",
       "    <tr style=\"text-align: right;\">\n",
       "      <th></th>\n",
       "      <th>Unnamed: 0</th>\n",
       "      <th>Zipcode</th>\n",
       "      <th>ConfirmedCaseCategory</th>\n",
       "      <th>ConfirmedCaseCount</th>\n",
       "      <th>Population</th>\n",
       "      <th>Median Age</th>\n",
       "      <th>Household Income</th>\n",
       "      <th>Per Capita Income</th>\n",
       "      <th>Poverty Count</th>\n",
       "      <th>Poverty Rate</th>\n",
       "      <th>White Population</th>\n",
       "      <th>Native American Population</th>\n",
       "      <th>Asian Population</th>\n",
       "      <th>African American Population</th>\n",
       "      <th>Other Population</th>\n",
       "      <th>Latitude</th>\n",
       "      <th>Longitude</th>\n",
       "    </tr>\n",
       "  </thead>\n",
       "  <tbody>\n",
       "    <tr>\n",
       "      <th>0</th>\n",
       "      <td>0</td>\n",
       "      <td>85003</td>\n",
       "      <td>Greater Than 250</td>\n",
       "      <td>277.0</td>\n",
       "      <td>8694.0</td>\n",
       "      <td>39.2</td>\n",
       "      <td>47554.0</td>\n",
       "      <td>36513.0</td>\n",
       "      <td>1662.0</td>\n",
       "      <td>19.116632</td>\n",
       "      <td>6861.0</td>\n",
       "      <td>278.0</td>\n",
       "      <td>104.0</td>\n",
       "      <td>856.0</td>\n",
       "      <td>382.0</td>\n",
       "      <td>33.451143</td>\n",
       "      <td>-112.07838</td>\n",
       "    </tr>\n",
       "    <tr>\n",
       "      <th>1</th>\n",
       "      <td>1</td>\n",
       "      <td>85004</td>\n",
       "      <td>101-250</td>\n",
       "      <td>206.0</td>\n",
       "      <td>5944.0</td>\n",
       "      <td>32.3</td>\n",
       "      <td>33862.0</td>\n",
       "      <td>31679.0</td>\n",
       "      <td>1772.0</td>\n",
       "      <td>29.811575</td>\n",
       "      <td>4601.0</td>\n",
       "      <td>103.0</td>\n",
       "      <td>331.0</td>\n",
       "      <td>386.0</td>\n",
       "      <td>339.0</td>\n",
       "      <td>33.451093</td>\n",
       "      <td>-112.07057</td>\n",
       "    </tr>\n",
       "    <tr>\n",
       "      <th>2</th>\n",
       "      <td>2</td>\n",
       "      <td>85006</td>\n",
       "      <td>Greater Than 250</td>\n",
       "      <td>837.0</td>\n",
       "      <td>27671.0</td>\n",
       "      <td>31.0</td>\n",
       "      <td>32166.0</td>\n",
       "      <td>16583.0</td>\n",
       "      <td>10919.0</td>\n",
       "      <td>39.460085</td>\n",
       "      <td>13571.0</td>\n",
       "      <td>827.0</td>\n",
       "      <td>158.0</td>\n",
       "      <td>1303.0</td>\n",
       "      <td>10839.0</td>\n",
       "      <td>33.466392</td>\n",
       "      <td>-112.04875</td>\n",
       "    </tr>\n",
       "    <tr>\n",
       "      <th>3</th>\n",
       "      <td>3</td>\n",
       "      <td>85007</td>\n",
       "      <td>Greater Than 250</td>\n",
       "      <td>639.0</td>\n",
       "      <td>14810.0</td>\n",
       "      <td>33.2</td>\n",
       "      <td>31396.0</td>\n",
       "      <td>20438.0</td>\n",
       "      <td>5273.0</td>\n",
       "      <td>35.604321</td>\n",
       "      <td>8497.0</td>\n",
       "      <td>392.0</td>\n",
       "      <td>512.0</td>\n",
       "      <td>2056.0</td>\n",
       "      <td>2874.0</td>\n",
       "      <td>33.449995</td>\n",
       "      <td>-112.09024</td>\n",
       "    </tr>\n",
       "    <tr>\n",
       "      <th>4</th>\n",
       "      <td>4</td>\n",
       "      <td>85008</td>\n",
       "      <td>Greater Than 250</td>\n",
       "      <td>2415.0</td>\n",
       "      <td>60700.0</td>\n",
       "      <td>28.7</td>\n",
       "      <td>37696.0</td>\n",
       "      <td>17694.0</td>\n",
       "      <td>18762.0</td>\n",
       "      <td>30.909390</td>\n",
       "      <td>31891.0</td>\n",
       "      <td>2009.0</td>\n",
       "      <td>556.0</td>\n",
       "      <td>7113.0</td>\n",
       "      <td>16602.0</td>\n",
       "      <td>33.466393</td>\n",
       "      <td>-112.00080</td>\n",
       "    </tr>\n",
       "    <tr>\n",
       "      <th>...</th>\n",
       "      <td>...</td>\n",
       "      <td>...</td>\n",
       "      <td>...</td>\n",
       "      <td>...</td>\n",
       "      <td>...</td>\n",
       "      <td>...</td>\n",
       "      <td>...</td>\n",
       "      <td>...</td>\n",
       "      <td>...</td>\n",
       "      <td>...</td>\n",
       "      <td>...</td>\n",
       "      <td>...</td>\n",
       "      <td>...</td>\n",
       "      <td>...</td>\n",
       "      <td>...</td>\n",
       "      <td>...</td>\n",
       "      <td>...</td>\n",
       "    </tr>\n",
       "    <tr>\n",
       "      <th>405</th>\n",
       "      <td>405</td>\n",
       "      <td>86514</td>\n",
       "      <td>Data Suppressed</td>\n",
       "      <td>NaN</td>\n",
       "      <td>2734.0</td>\n",
       "      <td>37.6</td>\n",
       "      <td>24199.0</td>\n",
       "      <td>12098.0</td>\n",
       "      <td>1209.0</td>\n",
       "      <td>44.220922</td>\n",
       "      <td>41.0</td>\n",
       "      <td>2672.0</td>\n",
       "      <td>5.0</td>\n",
       "      <td>2.0</td>\n",
       "      <td>6.0</td>\n",
       "      <td>36.880920</td>\n",
       "      <td>-109.33634</td>\n",
       "    </tr>\n",
       "    <tr>\n",
       "      <th>406</th>\n",
       "      <td>406</td>\n",
       "      <td>86515</td>\n",
       "      <td>0</td>\n",
       "      <td>0.0</td>\n",
       "      <td>4933.0</td>\n",
       "      <td>33.8</td>\n",
       "      <td>35417.0</td>\n",
       "      <td>13441.0</td>\n",
       "      <td>1473.0</td>\n",
       "      <td>29.860126</td>\n",
       "      <td>254.0</td>\n",
       "      <td>4391.0</td>\n",
       "      <td>45.0</td>\n",
       "      <td>20.0</td>\n",
       "      <td>76.0</td>\n",
       "      <td>35.672842</td>\n",
       "      <td>-109.06495</td>\n",
       "    </tr>\n",
       "    <tr>\n",
       "      <th>407</th>\n",
       "      <td>407</td>\n",
       "      <td>86515</td>\n",
       "      <td>Data Suppressed</td>\n",
       "      <td>NaN</td>\n",
       "      <td>4933.0</td>\n",
       "      <td>33.8</td>\n",
       "      <td>35417.0</td>\n",
       "      <td>13441.0</td>\n",
       "      <td>1473.0</td>\n",
       "      <td>29.860126</td>\n",
       "      <td>254.0</td>\n",
       "      <td>4391.0</td>\n",
       "      <td>45.0</td>\n",
       "      <td>20.0</td>\n",
       "      <td>76.0</td>\n",
       "      <td>35.672842</td>\n",
       "      <td>-109.06495</td>\n",
       "    </tr>\n",
       "    <tr>\n",
       "      <th>408</th>\n",
       "      <td>408</td>\n",
       "      <td>86538</td>\n",
       "      <td>Data Suppressed</td>\n",
       "      <td>NaN</td>\n",
       "      <td>2080.0</td>\n",
       "      <td>28.9</td>\n",
       "      <td>26304.0</td>\n",
       "      <td>11644.0</td>\n",
       "      <td>888.0</td>\n",
       "      <td>42.692308</td>\n",
       "      <td>53.0</td>\n",
       "      <td>2015.0</td>\n",
       "      <td>2.0</td>\n",
       "      <td>7.0</td>\n",
       "      <td>3.0</td>\n",
       "      <td>36.374317</td>\n",
       "      <td>-109.60070</td>\n",
       "    </tr>\n",
       "    <tr>\n",
       "      <th>409</th>\n",
       "      <td>409</td>\n",
       "      <td>86556</td>\n",
       "      <td>Data Suppressed</td>\n",
       "      <td>NaN</td>\n",
       "      <td>1956.0</td>\n",
       "      <td>23.5</td>\n",
       "      <td>26806.0</td>\n",
       "      <td>9759.0</td>\n",
       "      <td>691.0</td>\n",
       "      <td>35.327198</td>\n",
       "      <td>200.0</td>\n",
       "      <td>1690.0</td>\n",
       "      <td>7.0</td>\n",
       "      <td>25.0</td>\n",
       "      <td>18.0</td>\n",
       "      <td>36.272262</td>\n",
       "      <td>-109.17516</td>\n",
       "    </tr>\n",
       "  </tbody>\n",
       "</table>\n",
       "<p>410 rows × 17 columns</p>\n",
       "</div>"
      ],
      "text/plain": [
       "     Unnamed: 0  Zipcode ConfirmedCaseCategory  ConfirmedCaseCount  \\\n",
       "0             0    85003      Greater Than 250               277.0   \n",
       "1             1    85004               101-250               206.0   \n",
       "2             2    85006      Greater Than 250               837.0   \n",
       "3             3    85007      Greater Than 250               639.0   \n",
       "4             4    85008      Greater Than 250              2415.0   \n",
       "..          ...      ...                   ...                 ...   \n",
       "405         405    86514       Data Suppressed                 NaN   \n",
       "406         406    86515                     0                 0.0   \n",
       "407         407    86515       Data Suppressed                 NaN   \n",
       "408         408    86538       Data Suppressed                 NaN   \n",
       "409         409    86556       Data Suppressed                 NaN   \n",
       "\n",
       "     Population  Median Age  Household Income  Per Capita Income  \\\n",
       "0        8694.0        39.2           47554.0            36513.0   \n",
       "1        5944.0        32.3           33862.0            31679.0   \n",
       "2       27671.0        31.0           32166.0            16583.0   \n",
       "3       14810.0        33.2           31396.0            20438.0   \n",
       "4       60700.0        28.7           37696.0            17694.0   \n",
       "..          ...         ...               ...                ...   \n",
       "405      2734.0        37.6           24199.0            12098.0   \n",
       "406      4933.0        33.8           35417.0            13441.0   \n",
       "407      4933.0        33.8           35417.0            13441.0   \n",
       "408      2080.0        28.9           26304.0            11644.0   \n",
       "409      1956.0        23.5           26806.0             9759.0   \n",
       "\n",
       "     Poverty Count  Poverty Rate  White Population  \\\n",
       "0           1662.0     19.116632            6861.0   \n",
       "1           1772.0     29.811575            4601.0   \n",
       "2          10919.0     39.460085           13571.0   \n",
       "3           5273.0     35.604321            8497.0   \n",
       "4          18762.0     30.909390           31891.0   \n",
       "..             ...           ...               ...   \n",
       "405         1209.0     44.220922              41.0   \n",
       "406         1473.0     29.860126             254.0   \n",
       "407         1473.0     29.860126             254.0   \n",
       "408          888.0     42.692308              53.0   \n",
       "409          691.0     35.327198             200.0   \n",
       "\n",
       "     Native American Population  Asian Population  \\\n",
       "0                         278.0             104.0   \n",
       "1                         103.0             331.0   \n",
       "2                         827.0             158.0   \n",
       "3                         392.0             512.0   \n",
       "4                        2009.0             556.0   \n",
       "..                          ...               ...   \n",
       "405                      2672.0               5.0   \n",
       "406                      4391.0              45.0   \n",
       "407                      4391.0              45.0   \n",
       "408                      2015.0               2.0   \n",
       "409                      1690.0               7.0   \n",
       "\n",
       "     African American Population  Other Population   Latitude  Longitude  \n",
       "0                          856.0             382.0  33.451143 -112.07838  \n",
       "1                          386.0             339.0  33.451093 -112.07057  \n",
       "2                         1303.0           10839.0  33.466392 -112.04875  \n",
       "3                         2056.0            2874.0  33.449995 -112.09024  \n",
       "4                         7113.0           16602.0  33.466393 -112.00080  \n",
       "..                           ...               ...        ...        ...  \n",
       "405                          2.0               6.0  36.880920 -109.33634  \n",
       "406                         20.0              76.0  35.672842 -109.06495  \n",
       "407                         20.0              76.0  35.672842 -109.06495  \n",
       "408                          7.0               3.0  36.374317 -109.60070  \n",
       "409                         25.0              18.0  36.272262 -109.17516  \n",
       "\n",
       "[410 rows x 17 columns]"
      ]
     },
     "execution_count": 48,
     "metadata": {},
     "output_type": "execute_result"
    }
   ],
   "source": [
    "merged_df = pd.merge(merged_df, lat_lon_df, on=\"Zipcode\", how=\"left\")\n",
    "\n",
    "merged_df"
   ]
  },
  {
   "cell_type": "code",
   "execution_count": 61,
   "metadata": {},
   "outputs": [
    {
     "data": {
      "application/vnd.jupyter.widget-view+json": {
       "model_id": "2c1386b0925e4063b56d3e6c8c28df0e",
       "version_major": 2,
       "version_minor": 0
      },
      "text/plain": [
       "Figure(layout=FigureLayout(height='420px'))"
      ]
     },
     "metadata": {},
     "output_type": "display_data"
    }
   ],
   "source": [
    "gmaps.configure(api_key=gkey)\n",
    "\n",
    "# Store 'Lat' and 'Lng' into  locations \n",
    "locations = merged_df[[\"Latitude\", \"Longitude\"]].astype(float)\n",
    "\n",
    "# Convert Poverty Rate to float and store\n",
    "# HINT: be sure to handle NaN values\n",
    "#merged_df = merged_df.dropna()\n",
    "infection_rate = merged_df[\"ConfirmedCaseCount\"].astype(float)\n",
    "\n",
    "fig = gmaps.figure()\n",
    "\n",
    "heat_layer = gmaps.heatmap_layer(locations, weights=infection_rate)\n",
    "\n",
    "fig.add_layer(heat_layer)\n",
    "\n",
    "fig"
   ]
  },
  {
   "cell_type": "code",
   "execution_count": 50,
   "metadata": {},
   "outputs": [
    {
     "data": {
      "text/plain": [
       "<matplotlib.axes._subplots.AxesSubplot at 0x24064f2c9e8>"
      ]
     },
     "execution_count": 50,
     "metadata": {},
     "output_type": "execute_result"
    },
    {
     "data": {
      "image/png": "[encoded data removed]",
      "text/plain": [
       "<Figure size 432x288 with 1 Axes>"
      ]
     },
     "metadata": {
      "needs_background": "light"
     },
     "output_type": "display_data"
    }
   ],
   "source": [
    "cases_population_plot = merged_df.plot.scatter([\"Population\"], [\"ConfirmedCaseCount\"])\n",
    "cases_population_plot"
   ]
  },
  {
   "cell_type": "code",
   "execution_count": 51,
   "metadata": {},
   "outputs": [
    {
     "data": {
      "text/plain": [
       "<matplotlib.axes._subplots.AxesSubplot at 0x24064f14400>"
      ]
     },
     "execution_count": 51,
     "metadata": {},
     "output_type": "execute_result"
    },
    {
     "data": {
      "image/png": "[encoded data removed]",
      "text/plain": [
       "<Figure size 432x288 with 1 Axes>"
      ]
     },
     "metadata": {
      "needs_background": "light"
     },
     "output_type": "display_data"
    }
   ],
   "source": [
    "cases_poverty_count_plot = merged_df.plot.scatter([\"Poverty Count\"], [\"ConfirmedCaseCount\"])\n",
    "cases_poverty_count_plot"
   ]
  },
  {
   "cell_type": "code",
   "execution_count": 52,
   "metadata": {},
   "outputs": [
    {
     "data": {
      "text/plain": [
       "<matplotlib.axes._subplots.AxesSubplot at 0x24064f02ac8>"
      ]
     },
     "execution_count": 52,
     "metadata": {},
     "output_type": "execute_result"
    },
    {
     "data": {
      "image/png": "[encoded data removed]",
      "text/plain": [
       "<Figure size 432x288 with 1 Axes>"
      ]
     },
     "metadata": {
      "needs_background": "light"
     },
     "output_type": "display_data"
    }
   ],
   "source": [
    "cases_poverty_plot = merged_df.plot.scatter([\"Poverty Rate\"], [\"ConfirmedCaseCount\"])\n",
    "cases_poverty_plot"
   ]
  },
  {
   "cell_type": "code",
   "execution_count": 53,
   "metadata": {},
   "outputs": [
    {
     "data": {
      "text/plain": [
       "<matplotlib.axes._subplots.AxesSubplot at 0x24064ef4f28>"
      ]
     },
     "execution_count": 53,
     "metadata": {},
     "output_type": "execute_result"
    },
    {
     "data": {
      "image/png": "[encoded data removed]",
      "text/plain": [
       "<Figure size 432x288 with 1 Axes>"
      ]
     },
     "metadata": {
      "needs_background": "light"
     },
     "output_type": "display_data"
    }
   ],
   "source": [
    "cases_white_population_plot = merged_df.plot.scatter([\"White Population\"], [\"ConfirmedCaseCount\"])\n",
    "cases_white_population_plot"
   ]
  },
  {
   "cell_type": "code",
   "execution_count": 54,
   "metadata": {},
   "outputs": [
    {
     "data": {
      "text/plain": [
       "<matplotlib.axes._subplots.AxesSubplot at 0x24064d7cc88>"
      ]
     },
     "execution_count": 54,
     "metadata": {},
     "output_type": "execute_result"
    },
    {
     "data": {
      "image/png": "[encoded data removed]",
      "text/plain": [
       "<Figure size 432x288 with 1 Axes>"
      ]
     },
     "metadata": {
      "needs_background": "light"
     },
     "output_type": "display_data"
    }
   ],
   "source": [
    "cases_native_population_plot = merged_df.plot.scatter([\"Native American Population\"], [\"ConfirmedCaseCount\"])\n",
    "cases_native_population_plot"
   ]
  },
  {
   "cell_type": "code",
   "execution_count": 55,
   "metadata": {},
   "outputs": [
    {
     "data": {
      "text/plain": [
       "<matplotlib.axes._subplots.AxesSubplot at 0x24065035da0>"
      ]
     },
     "execution_count": 55,
     "metadata": {},
     "output_type": "execute_result"
    },
    {
     "data": {
      "image/png": "[encoded data removed]",
      "text/plain": [
       "<Figure size 432x288 with 1 Axes>"
      ]
     },
     "metadata": {
      "needs_background": "light"
     },
     "output_type": "display_data"
    }
   ],
   "source": [
    "cases_asian_population_plot = merged_df.plot.scatter([\"Asian Population\"], [\"ConfirmedCaseCount\"])\n",
    "cases_asian_population_plot"
   ]
  },
  {
   "cell_type": "code",
   "execution_count": 56,
   "metadata": {},
   "outputs": [
    {
     "data": {
      "text/plain": [
       "<matplotlib.axes._subplots.AxesSubplot at 0x24065051208>"
      ]
     },
     "execution_count": 56,
     "metadata": {},
     "output_type": "execute_result"
    },
    {
     "data": {
      "image/png": "[encoded data removed]",
      "text/plain": [
       "<Figure size 432x288 with 1 Axes>"
      ]
     },
     "metadata": {
      "needs_background": "light"
     },
     "output_type": "display_data"
    }
   ],
   "source": [
    "cases_aa_population_plot = merged_df.plot.scatter([\"African American Population\"], [\"ConfirmedCaseCount\"])\n",
    "cases_aa_population_plot"
   ]
  },
  {
   "cell_type": "code",
   "execution_count": 57,
   "metadata": {},
   "outputs": [
    {
     "data": {
      "text/plain": [
       "<matplotlib.axes._subplots.AxesSubplot at 0x24065066a90>"
      ]
     },
     "execution_count": 57,
     "metadata": {},
     "output_type": "execute_result"
    },
    {
     "data": {
      "image/png": "[encoded data removed]",
      "text/plain": [
       "<Figure size 432x288 with 1 Axes>"
      ]
     },
     "metadata": {
      "needs_background": "light"
     },
     "output_type": "display_data"
    }
   ],
   "source": [
    "cases_other_population_plot = merged_df.plot.scatter([\"Other Population\"], [\"ConfirmedCaseCount\"])\n",
    "cases_other_population_plot"
   ]
  },
  {
   "cell_type": "code",
   "execution_count": null,
   "metadata": {},
   "outputs": [],
   "source": []
  }
 ],
 "metadata": {
  "kernelspec": {
   "display_name": "Python 3",
   "language": "python",
   "name": "python3"
  },
  "language_info": {
   "codemirror_mode": {
    "name": "ipython",
    "version": 3
   },
   "file_extension": ".py",
   "mimetype": "text/x-python",
   "name": "python",
   "nbconvert_exporter": "python",
   "pygments_lexer": "ipython3",
   "version": "3.6.10"
  }
 },
 "nbformat": 4,
 "nbformat_minor": 4
}
