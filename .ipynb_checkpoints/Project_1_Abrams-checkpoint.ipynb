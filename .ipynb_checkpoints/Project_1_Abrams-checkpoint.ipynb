{
 "cells": [
  {
   "cell_type": "code",
<<<<<<< HEAD
   "execution_count": 6,
   "metadata": {},
   "outputs": [
    {
     "ename": "ImportError",
     "evalue": "cannot import name 'gkey'",
     "output_type": "error",
     "traceback": [
      "\u001b[1;31m---------------------------------------------------------------------------\u001b[0m",
      "\u001b[1;31mImportError\u001b[0m                               Traceback (most recent call last)",
      "\u001b[1;32m<ipython-input-6-1e2beb843528>\u001b[0m in \u001b[0;36m<module>\u001b[1;34m\u001b[0m\n\u001b[0;32m     12\u001b[0m \u001b[1;33m\u001b[0m\u001b[0m\n\u001b[0;32m     13\u001b[0m \u001b[1;31m# API Keys\u001b[0m\u001b[1;33m\u001b[0m\u001b[1;33m\u001b[0m\u001b[1;33m\u001b[0m\u001b[0m\n\u001b[1;32m---> 14\u001b[1;33m \u001b[1;32mfrom\u001b[0m \u001b[0mconfig\u001b[0m \u001b[1;32mimport\u001b[0m \u001b[1;33m(\u001b[0m\u001b[0mapi_key\u001b[0m\u001b[1;33m,\u001b[0m \u001b[0mgkey\u001b[0m\u001b[1;33m)\u001b[0m\u001b[1;33m\u001b[0m\u001b[1;33m\u001b[0m\u001b[0m\n\u001b[0m\u001b[0;32m     15\u001b[0m \u001b[0mc\u001b[0m \u001b[1;33m=\u001b[0m \u001b[0mCensus\u001b[0m\u001b[1;33m(\u001b[0m\u001b[0mapi_key\u001b[0m\u001b[1;33m,\u001b[0m \u001b[0myear\u001b[0m\u001b[1;33m=\u001b[0m\u001b[1;36m2013\u001b[0m\u001b[1;33m)\u001b[0m\u001b[1;33m\u001b[0m\u001b[1;33m\u001b[0m\u001b[0m\n",
      "\u001b[1;31mImportError\u001b[0m: cannot import name 'gkey'"
     ]
    }
   ],
   "source": [
    "# import dependencies\n",
=======
   "execution_count": 30,
   "metadata": {},
   "outputs": [],
   "source": [
>>>>>>> bd28189d5c6db50b67e9e67997bf32f5dd1f722d
    "import numpy as np\n",
    "import pandas as pd\n",
    "import matplotlib.pyplot as plt\n",
    "import requests\n",
    "from census import Census\n",
    "import gmaps\n",
    "import time\n",
    "from us import states\n",
    "from scipy.stats import linregress\n",
<<<<<<< HEAD
    "from matplotlib import pyplot as plt\n",
    "\n",
    "# API Keys\n",
    "from config import (api_key, gkey)\n",
    "c = Census(api_key, year=2013)"
=======
    "from matplotlib import pyplot as plt\n"
>>>>>>> bd28189d5c6db50b67e9e67997bf32f5dd1f722d
   ]
  },
  {
   "cell_type": "code",
<<<<<<< HEAD
   "execution_count": 4,
   "metadata": {},
   "outputs": [
    {
     "name": "stdout",
     "output_type": "stream",
     "text": [
      "33120\n"
     ]
    },
    {
=======
   "execution_count": 61,
   "metadata": {},
   "outputs": [
    {
>>>>>>> bd28189d5c6db50b67e9e67997bf32f5dd1f722d
     "data": {
      "text/html": [
       "<div>\n",
       "<style scoped>\n",
       "    .dataframe tbody tr th:only-of-type {\n",
       "        vertical-align: middle;\n",
       "    }\n",
       "\n",
       "    .dataframe tbody tr th {\n",
       "        vertical-align: top;\n",
       "    }\n",
       "\n",
       "    .dataframe thead th {\n",
       "        text-align: right;\n",
       "    }\n",
       "</style>\n",
       "<table border=\"1\" class=\"dataframe\">\n",
       "  <thead>\n",
       "    <tr style=\"text-align: right;\">\n",
       "      <th></th>\n",
<<<<<<< HEAD
       "      <th>Zipcode</th>\n",
       "      <th>Population</th>\n",
       "      <th>Median Age</th>\n",
       "      <th>Household Income</th>\n",
       "      <th>Per Capita Income</th>\n",
       "      <th>Poverty Count</th>\n",
       "      <th>Poverty Rate</th>\n",
=======
       "      <th>POSTCODE</th>\n",
       "      <th>ConfirmedCaseCategory</th>\n",
       "      <th>ConfirmedCaseCount</th>\n",
>>>>>>> bd28189d5c6db50b67e9e67997bf32f5dd1f722d
       "    </tr>\n",
       "  </thead>\n",
       "  <tbody>\n",
       "    <tr>\n",
       "      <th>0</th>\n",
<<<<<<< HEAD
       "      <td>08518</td>\n",
       "      <td>5217.0</td>\n",
       "      <td>41.5</td>\n",
       "      <td>74286.0</td>\n",
       "      <td>33963.0</td>\n",
       "      <td>170.0</td>\n",
       "      <td>3.258578</td>\n",
       "    </tr>\n",
       "    <tr>\n",
       "      <th>1</th>\n",
       "      <td>08520</td>\n",
       "      <td>27468.0</td>\n",
       "      <td>37.4</td>\n",
       "      <td>90293.0</td>\n",
       "      <td>37175.0</td>\n",
       "      <td>1834.0</td>\n",
       "      <td>6.676860</td>\n",
       "    </tr>\n",
       "    <tr>\n",
       "      <th>2</th>\n",
       "      <td>08525</td>\n",
       "      <td>4782.0</td>\n",
       "      <td>47.1</td>\n",
       "      <td>118656.0</td>\n",
       "      <td>59848.0</td>\n",
       "      <td>43.0</td>\n",
       "      <td>0.899205</td>\n",
       "    </tr>\n",
       "    <tr>\n",
       "      <th>3</th>\n",
       "      <td>08527</td>\n",
       "      <td>54867.0</td>\n",
       "      <td>42.2</td>\n",
       "      <td>88588.0</td>\n",
       "      <td>37021.0</td>\n",
       "      <td>2191.0</td>\n",
       "      <td>3.993293</td>\n",
       "    </tr>\n",
       "    <tr>\n",
       "      <th>4</th>\n",
       "      <td>08528</td>\n",
       "      <td>245.0</td>\n",
       "      <td>48.5</td>\n",
       "      <td>58676.0</td>\n",
       "      <td>49117.0</td>\n",
       "      <td>0.0</td>\n",
       "      <td>0.000000</td>\n",
       "    </tr>\n",
       "  </tbody>\n",
       "</table>\n",
       "</div>"
      ],
      "text/plain": [
       "  Zipcode  Population  Median Age  Household Income  Per Capita Income  \\\n",
       "0   08518      5217.0        41.5           74286.0            33963.0   \n",
       "1   08520     27468.0        37.4           90293.0            37175.0   \n",
       "2   08525      4782.0        47.1          118656.0            59848.0   \n",
       "3   08527     54867.0        42.2           88588.0            37021.0   \n",
       "4   08528       245.0        48.5           58676.0            49117.0   \n",
       "\n",
       "   Poverty Count  Poverty Rate  \n",
       "0          170.0      3.258578  \n",
       "1         1834.0      6.676860  \n",
       "2           43.0      0.899205  \n",
       "3         2191.0      3.993293  \n",
       "4            0.0      0.000000  "
      ]
     },
     "execution_count": 4,
=======
       "      <td>85003</td>\n",
       "      <td>Greater Than 250</td>\n",
       "      <td>277</td>\n",
       "    </tr>\n",
       "    <tr>\n",
       "      <th>1</th>\n",
       "      <td>85004</td>\n",
       "      <td>101-250</td>\n",
       "      <td>206</td>\n",
       "    </tr>\n",
       "    <tr>\n",
       "      <th>2</th>\n",
       "      <td>85006</td>\n",
       "      <td>Greater Than 250</td>\n",
       "      <td>837</td>\n",
       "    </tr>\n",
       "    <tr>\n",
       "      <th>3</th>\n",
       "      <td>85007</td>\n",
       "      <td>Greater Than 250</td>\n",
       "      <td>639</td>\n",
       "    </tr>\n",
       "    <tr>\n",
       "      <th>4</th>\n",
       "      <td>85008</td>\n",
       "      <td>Greater Than 250</td>\n",
       "      <td>2415</td>\n",
       "    </tr>\n",
       "    <tr>\n",
       "      <th>...</th>\n",
       "      <td>...</td>\n",
       "      <td>...</td>\n",
       "      <td>...</td>\n",
       "    </tr>\n",
       "    <tr>\n",
       "      <th>405</th>\n",
       "      <td>86514 Tribal</td>\n",
       "      <td>Data Suppressed</td>\n",
       "      <td>Data Suppressed</td>\n",
       "    </tr>\n",
       "    <tr>\n",
       "      <th>406</th>\n",
       "      <td>86515</td>\n",
       "      <td>0</td>\n",
       "      <td>0</td>\n",
       "    </tr>\n",
       "    <tr>\n",
       "      <th>407</th>\n",
       "      <td>86515 Tribal</td>\n",
       "      <td>Data Suppressed</td>\n",
       "      <td>Data Suppressed</td>\n",
       "    </tr>\n",
       "    <tr>\n",
       "      <th>408</th>\n",
       "      <td>86538 Tribal</td>\n",
       "      <td>Data Suppressed</td>\n",
       "      <td>Data Suppressed</td>\n",
       "    </tr>\n",
       "    <tr>\n",
       "      <th>409</th>\n",
       "      <td>86556 Tribal</td>\n",
       "      <td>Data Suppressed</td>\n",
       "      <td>Data Suppressed</td>\n",
       "    </tr>\n",
       "  </tbody>\n",
       "</table>\n",
       "<p>410 rows × 3 columns</p>\n",
       "</div>"
      ],
      "text/plain": [
       "         POSTCODE ConfirmedCaseCategory ConfirmedCaseCount\n",
       "0           85003      Greater Than 250                277\n",
       "1           85004               101-250                206\n",
       "2           85006      Greater Than 250                837\n",
       "3           85007      Greater Than 250                639\n",
       "4           85008      Greater Than 250               2415\n",
       "..            ...                   ...                ...\n",
       "405  86514 Tribal       Data Suppressed    Data Suppressed\n",
       "406         86515                     0                  0\n",
       "407  86515 Tribal       Data Suppressed    Data Suppressed\n",
       "408  86538 Tribal       Data Suppressed    Data Suppressed\n",
       "409  86556 Tribal       Data Suppressed    Data Suppressed\n",
       "\n",
       "[410 rows x 3 columns]"
      ]
     },
     "execution_count": 61,
>>>>>>> bd28189d5c6db50b67e9e67997bf32f5dd1f722d
     "metadata": {},
     "output_type": "execute_result"
    }
   ],
   "source": [
<<<<<<< HEAD
    "# Run Census Search to retrieve data on all zip codes (2013 ACS5 Census)\n",
    "# See: https://github.com/CommerceDataService/census-wrapper for library documentation\n",
    "# See: https://gist.github.com/afhaque/60558290d6efd892351c4b64e5c01e9b for labels\n",
    "census_data = c.acs5.get((\"NAME\", \"B19013_001E\", \"B01003_001E\", \"B01002_001E\",\n",
    "                          \"B19301_001E\",\n",
    "                          \"B17001_002E\"), {'for': 'zip code tabulation area:*'})\n",
    "\n",
    "# Convert to DataFrame\n",
    "census_pd = pd.DataFrame(census_data)\n",
    "\n",
    "# Column Reordering\n",
    "census_pd = census_pd.rename(columns={\"B01003_001E\": \"Population\",\n",
    "                                      \"B01002_001E\": \"Median Age\",\n",
    "                                      \"B19013_001E\": \"Household Income\",\n",
    "                                      \"B19301_001E\": \"Per Capita Income\",\n",
    "                                      \"B17001_002E\": \"Poverty Count\",\n",
    "                                      \"NAME\": \"Name\", \"zip code tabulation area\": \"Zipcode\"})\n",
    "\n",
    "# Add in Poverty Rate (Poverty Count / Population)\n",
    "census_pd[\"Poverty Rate\"] = 100 * \\\n",
    "    census_pd[\"Poverty Count\"].astype(\n",
    "        int) / census_pd[\"Population\"].astype(int)\n",
    "\n",
    "# Final DataFrame\n",
    "census_pd = census_pd[[\"Zipcode\", \"Population\", \"Median Age\", \"Household Income\",\n",
    "                       \"Per Capita Income\", \"Poverty Count\", \"Poverty Rate\"]]\n",
    "\n",
    "# Visualize\n",
    "print(len(census_pd))\n",
    "census_pd.head()"
   ]
=======
    "covid_zip = pd.read_csv(\"COVID19CONFIRMED.csv\")\n",
    "covid_zip"
   ]
  },
  {
   "cell_type": "code",
   "execution_count": 62,
   "metadata": {},
   "outputs": [],
   "source": [
    "#Data Cleaning\n",
    "\n",
    "#Repalce \" Tribal\" with \"\" to remove\n",
    "covid_zip[\"POSTCODE\"] = covid_zip[\"POSTCODE\"].str.replace(\" Tribal\", \"\")\n",
    "\n",
    "#Replace \"Data Surpressed\" with \"NA\"\n",
    "\n",
    "covid_zip[\"ConfirmedCaseCount\"] = covid_zip[\"ConfirmedCaseCount\"].replace(\"Data Suppressed\", np.NaN)"
   ]
  },
  {
   "cell_type": "code",
   "execution_count": 63,
   "metadata": {},
   "outputs": [
    {
     "data": {
      "text/plain": [
       "POSTCODE                 object\n",
       "ConfirmedCaseCategory    object\n",
       "ConfirmedCaseCount       object\n",
       "dtype: object"
      ]
     },
     "execution_count": 63,
     "metadata": {},
     "output_type": "execute_result"
    }
   ],
   "source": [
    "covid_zip.dtypes"
   ]
  },
  {
   "cell_type": "code",
   "execution_count": null,
   "metadata": {},
   "outputs": [],
   "source": []
  },
  {
   "cell_type": "code",
   "execution_count": null,
   "metadata": {},
   "outputs": [],
   "source": []
  },
  {
   "cell_type": "code",
   "execution_count": 72,
   "metadata": {},
   "outputs": [
    {
     "data": {
      "text/plain": [
       "array([2.770e+02, 2.060e+02, 8.370e+02, 6.390e+02, 2.415e+03, 2.249e+03,\n",
       "       4.470e+02, 5.180e+02, 8.810e+02, 1.311e+03, 1.189e+03, 1.343e+03,\n",
       "       9.670e+02, 1.037e+03, 7.320e+02, 1.130e+03, 7.820e+02, 6.100e+02,\n",
       "       4.140e+02, 6.530e+02, 2.900e+02, 1.087e+03, 1.374e+03, 1.372e+03,\n",
       "       2.436e+03, 2.500e+02, 2.224e+03, 1.869e+03, 1.104e+03, 2.273e+03,\n",
       "       1.316e+03, 1.275e+03, 5.580e+02, 7.300e+01, 4.760e+02, 4.400e+02,\n",
       "       1.230e+03, 5.310e+02, 1.400e+02, 3.370e+02, 3.580e+02, 8.700e+01,\n",
       "       9.200e+01, 1.880e+02, 3.550e+02, 0.000e+00,       nan, 1.197e+03,\n",
       "       3.870e+02, 6.310e+02, 6.270e+02, 1.000e+00, 2.300e+01, 5.890e+02,\n",
       "       2.300e+02, 4.510e+02, 1.200e+01, 8.360e+02, 4.620e+02, 1.800e+01,\n",
       "       3.500e+01, 5.700e+01, 6.000e+00, 1.700e+01, 8.000e+01, 1.128e+03,\n",
       "       9.970e+02, 6.970e+02, 1.470e+03, 5.120e+02, 1.000e+03, 5.200e+02,\n",
       "       4.690e+02, 6.760e+02, 9.540e+02, 5.530e+02, 4.450e+02, 1.670e+02,\n",
       "       9.870e+02, 1.616e+03, 5.150e+02, 6.070e+02, 7.120e+02, 6.140e+02,\n",
       "       2.400e+02, 1.088e+03, 3.140e+02, 6.500e+02, 6.340e+02, 2.000e+02,\n",
       "       7.740e+02, 2.880e+02, 5.980e+02, 8.800e+01, 1.300e+01, 2.600e+01,\n",
       "       1.060e+02, 1.680e+02, 1.342e+03, 1.067e+03, 1.081e+03, 1.970e+02,\n",
       "       6.180e+02, 2.000e+01, 6.090e+02, 4.550e+02, 3.780e+02, 2.084e+03,\n",
       "       1.116e+03, 1.235e+03, 5.240e+02, 5.360e+02, 4.570e+02, 1.990e+02,\n",
       "       9.690e+02, 4.200e+01, 2.740e+02, 4.900e+01, 7.000e+01, 1.397e+03,\n",
       "       2.200e+01, 1.423e+03, 3.210e+02, 7.800e+02, 3.170e+02, 7.900e+01,\n",
       "       1.150e+03, 1.459e+03, 5.470e+02, 1.460e+02, 1.375e+03, 1.600e+01,\n",
       "       4.950e+02, 2.866e+03, 2.870e+02, 1.100e+01, 1.726e+03, 9.700e+01,\n",
       "       1.890e+02, 9.300e+01, 1.110e+02, 2.110e+02, 3.383e+03, 1.435e+03,\n",
       "       3.820e+02, 4.860e+02, 2.250e+02, 2.700e+01, 1.770e+02, 7.140e+02,\n",
       "       4.910e+02, 6.750e+02, 7.370e+02, 4.150e+02, 6.500e+01, 1.096e+03,\n",
       "       3.790e+02, 1.310e+02, 1.810e+02, 5.800e+01, 1.430e+02, 4.700e+01,\n",
       "       5.810e+02, 2.430e+02, 1.278e+03, 3.100e+01, 3.260e+02, 1.550e+02,\n",
       "       1.930e+02, 1.230e+02, 2.800e+01, 9.520e+02, 6.100e+01, 1.320e+02,\n",
       "       8.600e+01, 3.010e+02, 7.760e+02, 1.656e+03, 5.480e+02, 4.930e+02,\n",
       "       9.280e+02, 4.680e+02, 1.450e+02, 3.220e+02, 1.750e+02, 4.160e+02,\n",
       "       3.750e+02, 1.530e+02, 4.100e+01, 8.900e+01, 1.910e+02, 2.480e+02,\n",
       "       4.970e+02, 1.059e+03, 1.440e+02, 9.100e+01, 1.350e+02, 8.300e+01,\n",
       "       7.940e+02, 6.370e+02, 2.730e+02, 1.900e+01, 1.100e+02, 7.500e+01,\n",
       "       4.640e+02, 5.210e+02, 3.300e+01, 2.500e+01, 4.280e+02, 1.660e+02,\n",
       "       7.700e+01, 2.530e+02, 9.600e+01, 6.300e+01, 4.000e+01, 2.100e+01,\n",
       "       2.550e+02, 3.900e+01, 2.900e+01, 1.980e+02, 1.760e+02, 1.370e+02,\n",
       "       3.700e+01, 1.860e+02, 5.600e+01, 1.730e+02, 5.770e+02])"
      ]
     },
     "execution_count": 72,
     "metadata": {},
     "output_type": "execute_result"
    }
   ],
   "source": [
    "covid_zip[\"ConfirmedCaseCount\"].unique()"
   ]
  },
  {
   "cell_type": "code",
   "execution_count": 73,
   "metadata": {},
   "outputs": [],
   "source": [
    "covid_zip[\"ConfirmedCaseCount\"] = covid_zip[\"ConfirmedCaseCount\"].replace(\"1-5\", \"1\")\n",
    "covid_zip[\"ConfirmedCaseCount\"] = covid_zip[\"ConfirmedCaseCount\"].replace(\"6-10\", \"6\")"
   ]
  },
  {
   "cell_type": "code",
   "execution_count": 74,
   "metadata": {},
   "outputs": [],
   "source": [
    "covid_zip[\"ConfirmedCaseCount\"] = covid_zip[\"ConfirmedCaseCount\"].astype(float)"
   ]
  },
  {
   "cell_type": "code",
   "execution_count": 75,
   "metadata": {},
   "outputs": [],
   "source": [
    "covid_zip[\"ConfirmedCaseCount\"] = covid_zip[\"ConfirmedCaseCount\"].astype(float)"
   ]
  },
  {
   "cell_type": "code",
   "execution_count": 76,
   "metadata": {},
   "outputs": [
    {
     "data": {
      "text/html": [
       "<div>\n",
       "<style scoped>\n",
       "    .dataframe tbody tr th:only-of-type {\n",
       "        vertical-align: middle;\n",
       "    }\n",
       "\n",
       "    .dataframe tbody tr th {\n",
       "        vertical-align: top;\n",
       "    }\n",
       "\n",
       "    .dataframe thead th {\n",
       "        text-align: right;\n",
       "    }\n",
       "</style>\n",
       "<table border=\"1\" class=\"dataframe\">\n",
       "  <thead>\n",
       "    <tr style=\"text-align: right;\">\n",
       "      <th></th>\n",
       "      <th>POSTCODE</th>\n",
       "      <th>ConfirmedCaseCategory</th>\n",
       "      <th>ConfirmedCaseCount</th>\n",
       "    </tr>\n",
       "  </thead>\n",
       "  <tbody>\n",
       "    <tr>\n",
       "      <th>0</th>\n",
       "      <td>85003</td>\n",
       "      <td>Greater Than 250</td>\n",
       "      <td>277.0</td>\n",
       "    </tr>\n",
       "    <tr>\n",
       "      <th>1</th>\n",
       "      <td>85004</td>\n",
       "      <td>101-250</td>\n",
       "      <td>206.0</td>\n",
       "    </tr>\n",
       "    <tr>\n",
       "      <th>2</th>\n",
       "      <td>85006</td>\n",
       "      <td>Greater Than 250</td>\n",
       "      <td>837.0</td>\n",
       "    </tr>\n",
       "    <tr>\n",
       "      <th>3</th>\n",
       "      <td>85007</td>\n",
       "      <td>Greater Than 250</td>\n",
       "      <td>639.0</td>\n",
       "    </tr>\n",
       "    <tr>\n",
       "      <th>4</th>\n",
       "      <td>85008</td>\n",
       "      <td>Greater Than 250</td>\n",
       "      <td>2415.0</td>\n",
       "    </tr>\n",
       "    <tr>\n",
       "      <th>...</th>\n",
       "      <td>...</td>\n",
       "      <td>...</td>\n",
       "      <td>...</td>\n",
       "    </tr>\n",
       "    <tr>\n",
       "      <th>405</th>\n",
       "      <td>86514</td>\n",
       "      <td>Data Suppressed</td>\n",
       "      <td>NaN</td>\n",
       "    </tr>\n",
       "    <tr>\n",
       "      <th>406</th>\n",
       "      <td>86515</td>\n",
       "      <td>0</td>\n",
       "      <td>0.0</td>\n",
       "    </tr>\n",
       "    <tr>\n",
       "      <th>407</th>\n",
       "      <td>86515</td>\n",
       "      <td>Data Suppressed</td>\n",
       "      <td>NaN</td>\n",
       "    </tr>\n",
       "    <tr>\n",
       "      <th>408</th>\n",
       "      <td>86538</td>\n",
       "      <td>Data Suppressed</td>\n",
       "      <td>NaN</td>\n",
       "    </tr>\n",
       "    <tr>\n",
       "      <th>409</th>\n",
       "      <td>86556</td>\n",
       "      <td>Data Suppressed</td>\n",
       "      <td>NaN</td>\n",
       "    </tr>\n",
       "  </tbody>\n",
       "</table>\n",
       "<p>410 rows × 3 columns</p>\n",
       "</div>"
      ],
      "text/plain": [
       "     POSTCODE ConfirmedCaseCategory  ConfirmedCaseCount\n",
       "0       85003      Greater Than 250               277.0\n",
       "1       85004               101-250               206.0\n",
       "2       85006      Greater Than 250               837.0\n",
       "3       85007      Greater Than 250               639.0\n",
       "4       85008      Greater Than 250              2415.0\n",
       "..        ...                   ...                 ...\n",
       "405     86514       Data Suppressed                 NaN\n",
       "406     86515                     0                 0.0\n",
       "407     86515       Data Suppressed                 NaN\n",
       "408     86538       Data Suppressed                 NaN\n",
       "409     86556       Data Suppressed                 NaN\n",
       "\n",
       "[410 rows x 3 columns]"
      ]
     },
     "execution_count": 76,
     "metadata": {},
     "output_type": "execute_result"
    }
   ],
   "source": [
    "covid_zip"
   ]
  },
  {
   "cell_type": "code",
   "execution_count": 77,
   "metadata": {},
   "outputs": [],
   "source": [
    "covid_zip.to_csv(\"covid_zip\", index=True)"
   ]
  },
  {
   "cell_type": "code",
   "execution_count": null,
   "metadata": {},
   "outputs": [],
   "source": []
  },
  {
   "cell_type": "code",
   "execution_count": null,
   "metadata": {},
   "outputs": [],
   "source": []
>>>>>>> bd28189d5c6db50b67e9e67997bf32f5dd1f722d
  }
 ],
 "metadata": {
  "kernelspec": {
   "display_name": "Python 3",
   "language": "python",
   "name": "python3"
  },
  "language_info": {
   "codemirror_mode": {
    "name": "ipython",
    "version": 3
   },
   "file_extension": ".py",
   "mimetype": "text/x-python",
   "name": "python",
   "nbconvert_exporter": "python",
   "pygments_lexer": "ipython3",
   "version": "3.6.10"
  }
 },
 "nbformat": 4,
 "nbformat_minor": 4
}
